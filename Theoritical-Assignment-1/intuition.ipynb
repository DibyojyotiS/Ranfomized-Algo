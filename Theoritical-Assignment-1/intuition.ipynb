{
 "cells": [
  {
   "cell_type": "code",
   "execution_count": 1,
   "metadata": {},
   "outputs": [],
   "source": [
    "import numpy as np"
   ]
  },
  {
   "cell_type": "code",
   "execution_count": 48,
   "metadata": {},
   "outputs": [],
   "source": [
    "M__ = np.array([[1,0],[0,1]])\n",
    "M_0 = np.array([[1,0],[1,1]])\n",
    "M_1 = np.array([[1,1],[0,1]])\n",
    "\n",
    "M_x0 = np.linalg.inv(M_0)\n",
    "M_x1 = np.linalg.inv(M_1)"
   ]
  },
  {
   "cell_type": "code",
   "execution_count": 49,
   "metadata": {},
   "outputs": [],
   "source": [
    "def fingerprint(bit_string):\n",
    "    fingerprint = M__\n",
    "    for bit in bit_string:\n",
    "        if bit == '0':\n",
    "            fingerprint = np.dot(fingerprint,M_0)\n",
    "        elif bit == '1':\n",
    "            fingerprint = np.dot(fingerprint,M_1)\n",
    "    return fingerprint"
   ]
  },
  {
   "cell_type": "code",
   "execution_count": 69,
   "metadata": {},
   "outputs": [
    {
     "data": {
      "text/plain": [
       "array([[1, 4],\n",
       "       [0, 1]])"
      ]
     },
     "execution_count": 69,
     "metadata": {},
     "output_type": "execute_result"
    }
   ],
   "source": [
    "fingerprint('1111')"
   ]
  },
  {
   "cell_type": "code",
   "execution_count": null,
   "metadata": {},
   "outputs": [],
   "source": []
  }
 ],
 "metadata": {
  "interpreter": {
   "hash": "f45ee7c8811c505473c63122c080a443c5e15828fbf819d8ba83daa4fba756a0"
  },
  "kernelspec": {
   "display_name": "Python 3.7.6 64-bit ('tf2': conda)",
   "language": "python",
   "name": "python3"
  },
  "language_info": {
   "codemirror_mode": {
    "name": "ipython",
    "version": 3
   },
   "file_extension": ".py",
   "mimetype": "text/x-python",
   "name": "python",
   "nbconvert_exporter": "python",
   "pygments_lexer": "ipython3",
   "version": "3.7.6"
  },
  "orig_nbformat": 4
 },
 "nbformat": 4,
 "nbformat_minor": 2
}
